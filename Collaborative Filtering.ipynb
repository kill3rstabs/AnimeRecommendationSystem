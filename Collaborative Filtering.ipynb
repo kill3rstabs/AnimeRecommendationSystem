{
 "cells": [
  {
   "cell_type": "code",
   "execution_count": 5,
   "metadata": {},
   "outputs": [
    {
     "name": "stdout",
     "output_type": "stream",
     "text": [
      "Recommended items for user 10:\n",
      "107410     0.077063\n",
      "1174180    0.039618\n",
      "377160     0.022567\n",
      "275850     0.012694\n",
      "271590     0.011578\n",
      "Name: 10, dtype: float64\n"
     ]
    }
   ],
   "source": [
    "import pandas as pd\n",
    "import numpy as np\n",
    "from scipy.sparse.linalg import svds\n",
    "\n",
    "file_path = 'user_item_matrix.csv'\n",
    "data = pd.read_csv(file_path, index_col=0)\n",
    "data_filled = data.fillna(0)\n",
    "\n",
    "U, sigma, Vt = svds(data_filled.values, k=6)\n",
    "sigma = np.diag(sigma)\n",
    "\n",
    "reconstructed_matrix = np.dot(np.dot(U, sigma), Vt)\n",
    "reconstructed_df = pd.DataFrame(reconstructed_matrix, index=data_filled.index, columns=data_filled.columns)\n",
    "\n",
    "def recommend_items(user_id, data, reconstructed_df, num_recommendations=5):\n",
    "    user_predictions = reconstructed_df.loc[user_id].sort_values(ascending=False)\n",
    "    \n",
    "    interactions = data.loc[user_id]\n",
    "    recommendations = user_predictions[~user_predictions.index.isin(interactions[interactions.notna()].index)]\n",
    "    \n",
    "    return recommendations.head(num_recommendations)\n",
    "\n",
    "recommended_items = recommend_items(10, data, reconstructed_df, 5)\n",
    "print(\"Recommended items for user 10:\")\n",
    "print(recommended_items)"
   ]
  }
 ],
 "metadata": {
  "kernelspec": {
   "display_name": "Python 3",
   "language": "python",
   "name": "python3"
  },
  "language_info": {
   "codemirror_mode": {
    "name": "ipython",
    "version": 3
   },
   "file_extension": ".py",
   "mimetype": "text/x-python",
   "name": "python",
   "nbconvert_exporter": "python",
   "pygments_lexer": "ipython3",
   "version": "3.11.4"
  },
  "orig_nbformat": 4
 },
 "nbformat": 4,
 "nbformat_minor": 2
}
